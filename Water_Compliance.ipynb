{
 "cells": [
  {
   "cell_type": "markdown",
   "id": "2601d2ee-b33d-4a4b-80f7-9a5f2431d2c8",
   "metadata": {},
   "source": [
    "# Predictive Modeling and Analysis of Chemical Parameters for Water Compliancy "
   ]
  },
  {
   "cell_type": "markdown",
   "id": "98729230-87d4-4719-8d8a-942264870ca3",
   "metadata": {},
   "source": [
    "## Objective:\n",
    "\n",
    "- To analyze which chemical parameters could cause water samples to be taken for compliance monotoring.\n",
    "- Create a model to predict whether a water sample will be taken for compliance monitoring given what and how much chemicals were found."
   ]
  },
  {
   "cell_type": "markdown",
   "id": "7e3d8015-c8b7-4b97-8bda-d03a3e2a0be6",
   "metadata": {},
   "source": [
    "# Dataset\n",
    "\n",
    "Water quality dataset from kaggle avaliable at:\n",
    "https://www.kaggle.com/datasets/krishnanshverma/england-water-quality\n",
    "\n",
    "From the site:\n",
    "\"This dataset was scraped from an official government website and contains water quality sampling data collected from multiple locations, primarily rivers and sewage effluents, during the period of January 2025 to February 2025. The dataset provides detailed measurements of various chemical and physical properties of water, including ammonia levels, water temperature, and other determinands.\""
   ]
  },
  {
   "cell_type": "markdown",
   "id": "a0bd2c48-8906-42dd-aa85-7880f4ad6698",
   "metadata": {},
   "source": [
    "## Parameters\n",
    "\n",
    "These are the Parameters given to us from the kaggle dataset.\n",
    "\n",
    "sample.samplingPoint.notation - Unique identifier for each sampling point.\n",
    "\n",
    "sample.samplingPoint.label - Name or description of the sampling location.\n",
    "\n",
    "sample.sampleDateTime - Date and time when the sample was collected.\n",
    "\n",
    "determinand.label - The type of substance measured (e.g., Ammonia(N), Water Temperature).\n",
    "\n",
    "determinand.definition - A detailed description of the measured determinand.\n",
    "\n",
    "determinand.notation - Numerical range or classification of the determinand values.\n",
    "\n",
    "result - The measured value of the determinand in the sample.\n",
    "\n",
    "determinand.unit.label - Unit of measurement (e.g., mg/l, °C).\n",
    "\n",
    "sample.sampledMaterialType.label - Type of water source (e.g., River, Final Sewage Effluent).\n",
    "\n",
    "sample.isComplianceSample - Boolean flag indicating whether the sample was taken for compliance monitoring."
   ]
  },
  {
   "cell_type": "code",
   "execution_count": 179,
   "id": "188505c5-96c1-4216-9fd4-319336384015",
   "metadata": {},
   "outputs": [],
   "source": [
    "#Imports\n",
    "import numpy as np\n",
    "import pandas as pd\n",
    "import seaborn as sns\n",
    "import matplotlib.pyplot as plt\n",
    "from collections import defaultdict\n",
    "from sklearn.metrics import confusion_matrix, precision_score, recall_score, f1_score, classification_report\n",
    "from sklearn.preprocessing import StandardScaler\n",
    "from sklearn.linear_model import LogisticRegression\n",
    "from sklearn.model_selection import train_test_split, KFold, cross_val_score, cross_val_predict"
   ]
  },
  {
   "cell_type": "markdown",
   "id": "e1679575-f05c-42f1-b6a4-dab521bd5164",
   "metadata": {},
   "source": [
    "## The Dataset"
   ]
  },
  {
   "cell_type": "code",
   "execution_count": 181,
   "id": "0e7126c1-4030-457d-b5f5-cb91c404da74",
   "metadata": {},
   "outputs": [
    {
     "data": {
      "text/html": [
       "<div>\n",
       "<style scoped>\n",
       "    .dataframe tbody tr th:only-of-type {\n",
       "        vertical-align: middle;\n",
       "    }\n",
       "\n",
       "    .dataframe tbody tr th {\n",
       "        vertical-align: top;\n",
       "    }\n",
       "\n",
       "    .dataframe thead th {\n",
       "        text-align: right;\n",
       "    }\n",
       "</style>\n",
       "<table border=\"1\" class=\"dataframe\">\n",
       "  <thead>\n",
       "    <tr style=\"text-align: right;\">\n",
       "      <th></th>\n",
       "      <th>sample.samplingPoint.notation</th>\n",
       "      <th>sample.samplingPoint.label</th>\n",
       "      <th>sample.sampleDateTime</th>\n",
       "      <th>determinand.label</th>\n",
       "      <th>determinand.definition</th>\n",
       "      <th>determinand.notation</th>\n",
       "      <th>result</th>\n",
       "      <th>determinand.unit.label</th>\n",
       "      <th>sample.sampledMaterialType.label</th>\n",
       "      <th>sample.isComplianceSample</th>\n",
       "      <th>sample.purpose.label</th>\n",
       "      <th>sample.samplingPoint.easting</th>\n",
       "      <th>sample.samplingPoint.northing</th>\n",
       "    </tr>\n",
       "  </thead>\n",
       "  <tbody>\n",
       "    <tr>\n",
       "      <th>0</th>\n",
       "      <td>AN-011624</td>\n",
       "      <td>APOLLO OFFICE UNITS RADCLIVE RD GAWCOTT</td>\n",
       "      <td>2025-01-13T12:04:00</td>\n",
       "      <td>Oil &amp; Grs Vs</td>\n",
       "      <td>Visible oil or grease, significant trace: Pres...</td>\n",
       "      <td>664</td>\n",
       "      <td>0.00000</td>\n",
       "      <td>pres/nf</td>\n",
       "      <td>FINAL SEWAGE EFFLUENT</td>\n",
       "      <td>True</td>\n",
       "      <td>COMPLIANCE AUDIT (PERMIT)</td>\n",
       "      <td>467993</td>\n",
       "      <td>232851</td>\n",
       "    </tr>\n",
       "    <tr>\n",
       "      <th>1</th>\n",
       "      <td>AN-011624</td>\n",
       "      <td>APOLLO OFFICE UNITS RADCLIVE RD GAWCOTT</td>\n",
       "      <td>2025-01-13T12:04:00</td>\n",
       "      <td>BOD ATU</td>\n",
       "      <td>BOD : 5 Day ATU</td>\n",
       "      <td>85</td>\n",
       "      <td>4.00000</td>\n",
       "      <td>mg/l</td>\n",
       "      <td>FINAL SEWAGE EFFLUENT</td>\n",
       "      <td>True</td>\n",
       "      <td>COMPLIANCE AUDIT (PERMIT)</td>\n",
       "      <td>467993</td>\n",
       "      <td>232851</td>\n",
       "    </tr>\n",
       "    <tr>\n",
       "      <th>2</th>\n",
       "      <td>AN-011624</td>\n",
       "      <td>APOLLO OFFICE UNITS RADCLIVE RD GAWCOTT</td>\n",
       "      <td>2025-01-13T12:04:00</td>\n",
       "      <td>Ammonia(N)</td>\n",
       "      <td>Ammoniacal Nitrogen as N</td>\n",
       "      <td>111</td>\n",
       "      <td>0.50000</td>\n",
       "      <td>mg/l</td>\n",
       "      <td>FINAL SEWAGE EFFLUENT</td>\n",
       "      <td>True</td>\n",
       "      <td>COMPLIANCE AUDIT (PERMIT)</td>\n",
       "      <td>467993</td>\n",
       "      <td>232851</td>\n",
       "    </tr>\n",
       "    <tr>\n",
       "      <th>3</th>\n",
       "      <td>AN-011624</td>\n",
       "      <td>APOLLO OFFICE UNITS RADCLIVE RD GAWCOTT</td>\n",
       "      <td>2025-01-13T12:04:00</td>\n",
       "      <td>Sld Sus@105C</td>\n",
       "      <td>Solids, Suspended at 105 C</td>\n",
       "      <td>135</td>\n",
       "      <td>3.00000</td>\n",
       "      <td>mg/l</td>\n",
       "      <td>FINAL SEWAGE EFFLUENT</td>\n",
       "      <td>True</td>\n",
       "      <td>COMPLIANCE AUDIT (PERMIT)</td>\n",
       "      <td>467993</td>\n",
       "      <td>232851</td>\n",
       "    </tr>\n",
       "    <tr>\n",
       "      <th>4</th>\n",
       "      <td>AN-01M05</td>\n",
       "      <td>R.OUSE FULWELL CROSSING</td>\n",
       "      <td>2025-01-14T13:57:00</td>\n",
       "      <td>NH3 un-ion</td>\n",
       "      <td>Ammonia un-ionised as N</td>\n",
       "      <td>119</td>\n",
       "      <td>0.00113</td>\n",
       "      <td>mg/l</td>\n",
       "      <td>RIVER / RUNNING SURFACE WATER</td>\n",
       "      <td>False</td>\n",
       "      <td>ENVIRONMENTAL MONITORING STATUTORY (EU DIRECTI...</td>\n",
       "      <td>462655</td>\n",
       "      <td>234551</td>\n",
       "    </tr>\n",
       "    <tr>\n",
       "      <th>5</th>\n",
       "      <td>AN-01M05</td>\n",
       "      <td>R.OUSE FULWELL CROSSING</td>\n",
       "      <td>2025-01-14T13:57:00</td>\n",
       "      <td>Orthophospht</td>\n",
       "      <td>Orthophosphate, reactive as P</td>\n",
       "      <td>180</td>\n",
       "      <td>0.09700</td>\n",
       "      <td>mg/l</td>\n",
       "      <td>RIVER / RUNNING SURFACE WATER</td>\n",
       "      <td>False</td>\n",
       "      <td>ENVIRONMENTAL MONITORING STATUTORY (EU DIRECTI...</td>\n",
       "      <td>462655</td>\n",
       "      <td>234551</td>\n",
       "    </tr>\n",
       "    <tr>\n",
       "      <th>6</th>\n",
       "      <td>AN-01M05</td>\n",
       "      <td>R.OUSE FULWELL CROSSING</td>\n",
       "      <td>2025-01-14T13:57:00</td>\n",
       "      <td>Alky pH 4.5</td>\n",
       "      <td>Alkalinity to pH 4.5 as CaCO3</td>\n",
       "      <td>162</td>\n",
       "      <td>260.00000</td>\n",
       "      <td>mg/l</td>\n",
       "      <td>RIVER / RUNNING SURFACE WATER</td>\n",
       "      <td>False</td>\n",
       "      <td>ENVIRONMENTAL MONITORING STATUTORY (EU DIRECTI...</td>\n",
       "      <td>462655</td>\n",
       "      <td>234551</td>\n",
       "    </tr>\n",
       "    <tr>\n",
       "      <th>7</th>\n",
       "      <td>AN-01M05</td>\n",
       "      <td>R.OUSE FULWELL CROSSING</td>\n",
       "      <td>2025-01-14T13:57:00</td>\n",
       "      <td>Cond @ 25C</td>\n",
       "      <td>Conductivity at 25 C</td>\n",
       "      <td>77</td>\n",
       "      <td>755.00000</td>\n",
       "      <td>us/cm</td>\n",
       "      <td>RIVER / RUNNING SURFACE WATER</td>\n",
       "      <td>False</td>\n",
       "      <td>ENVIRONMENTAL MONITORING STATUTORY (EU DIRECTI...</td>\n",
       "      <td>462655</td>\n",
       "      <td>234551</td>\n",
       "    </tr>\n",
       "    <tr>\n",
       "      <th>8</th>\n",
       "      <td>AN-01M05</td>\n",
       "      <td>R.OUSE FULWELL CROSSING</td>\n",
       "      <td>2025-01-14T13:57:00</td>\n",
       "      <td>pH</td>\n",
       "      <td>pH</td>\n",
       "      <td>61</td>\n",
       "      <td>8.09000</td>\n",
       "      <td>phunits</td>\n",
       "      <td>RIVER / RUNNING SURFACE WATER</td>\n",
       "      <td>False</td>\n",
       "      <td>ENVIRONMENTAL MONITORING STATUTORY (EU DIRECTI...</td>\n",
       "      <td>462655</td>\n",
       "      <td>234551</td>\n",
       "    </tr>\n",
       "    <tr>\n",
       "      <th>9</th>\n",
       "      <td>AN-01M05</td>\n",
       "      <td>R.OUSE FULWELL CROSSING</td>\n",
       "      <td>2025-01-14T13:57:00</td>\n",
       "      <td>N Oxidised</td>\n",
       "      <td>Nitrogen, Total Oxidised as N</td>\n",
       "      <td>116</td>\n",
       "      <td>8.20000</td>\n",
       "      <td>mg/l</td>\n",
       "      <td>RIVER / RUNNING SURFACE WATER</td>\n",
       "      <td>False</td>\n",
       "      <td>ENVIRONMENTAL MONITORING STATUTORY (EU DIRECTI...</td>\n",
       "      <td>462655</td>\n",
       "      <td>234551</td>\n",
       "    </tr>\n",
       "  </tbody>\n",
       "</table>\n",
       "</div>"
      ],
      "text/plain": [
       "  sample.samplingPoint.notation               sample.samplingPoint.label  \\\n",
       "0                     AN-011624  APOLLO OFFICE UNITS RADCLIVE RD GAWCOTT   \n",
       "1                     AN-011624  APOLLO OFFICE UNITS RADCLIVE RD GAWCOTT   \n",
       "2                     AN-011624  APOLLO OFFICE UNITS RADCLIVE RD GAWCOTT   \n",
       "3                     AN-011624  APOLLO OFFICE UNITS RADCLIVE RD GAWCOTT   \n",
       "4                      AN-01M05                  R.OUSE FULWELL CROSSING   \n",
       "5                      AN-01M05                  R.OUSE FULWELL CROSSING   \n",
       "6                      AN-01M05                  R.OUSE FULWELL CROSSING   \n",
       "7                      AN-01M05                  R.OUSE FULWELL CROSSING   \n",
       "8                      AN-01M05                  R.OUSE FULWELL CROSSING   \n",
       "9                      AN-01M05                  R.OUSE FULWELL CROSSING   \n",
       "\n",
       "  sample.sampleDateTime determinand.label  \\\n",
       "0   2025-01-13T12:04:00      Oil & Grs Vs   \n",
       "1   2025-01-13T12:04:00           BOD ATU   \n",
       "2   2025-01-13T12:04:00        Ammonia(N)   \n",
       "3   2025-01-13T12:04:00      Sld Sus@105C   \n",
       "4   2025-01-14T13:57:00        NH3 un-ion   \n",
       "5   2025-01-14T13:57:00      Orthophospht   \n",
       "6   2025-01-14T13:57:00       Alky pH 4.5   \n",
       "7   2025-01-14T13:57:00        Cond @ 25C   \n",
       "8   2025-01-14T13:57:00                pH   \n",
       "9   2025-01-14T13:57:00        N Oxidised   \n",
       "\n",
       "                              determinand.definition  determinand.notation  \\\n",
       "0  Visible oil or grease, significant trace: Pres...                   664   \n",
       "1                                    BOD : 5 Day ATU                    85   \n",
       "2                           Ammoniacal Nitrogen as N                   111   \n",
       "3                         Solids, Suspended at 105 C                   135   \n",
       "4                            Ammonia un-ionised as N                   119   \n",
       "5                      Orthophosphate, reactive as P                   180   \n",
       "6                      Alkalinity to pH 4.5 as CaCO3                   162   \n",
       "7                               Conductivity at 25 C                    77   \n",
       "8                                                 pH                    61   \n",
       "9                      Nitrogen, Total Oxidised as N                   116   \n",
       "\n",
       "      result determinand.unit.label sample.sampledMaterialType.label  \\\n",
       "0    0.00000                pres/nf            FINAL SEWAGE EFFLUENT   \n",
       "1    4.00000                   mg/l            FINAL SEWAGE EFFLUENT   \n",
       "2    0.50000                   mg/l            FINAL SEWAGE EFFLUENT   \n",
       "3    3.00000                   mg/l            FINAL SEWAGE EFFLUENT   \n",
       "4    0.00113                   mg/l    RIVER / RUNNING SURFACE WATER   \n",
       "5    0.09700                   mg/l    RIVER / RUNNING SURFACE WATER   \n",
       "6  260.00000                   mg/l    RIVER / RUNNING SURFACE WATER   \n",
       "7  755.00000                  us/cm    RIVER / RUNNING SURFACE WATER   \n",
       "8    8.09000                phunits    RIVER / RUNNING SURFACE WATER   \n",
       "9    8.20000                   mg/l    RIVER / RUNNING SURFACE WATER   \n",
       "\n",
       "   sample.isComplianceSample  \\\n",
       "0                       True   \n",
       "1                       True   \n",
       "2                       True   \n",
       "3                       True   \n",
       "4                      False   \n",
       "5                      False   \n",
       "6                      False   \n",
       "7                      False   \n",
       "8                      False   \n",
       "9                      False   \n",
       "\n",
       "                                sample.purpose.label  \\\n",
       "0                          COMPLIANCE AUDIT (PERMIT)   \n",
       "1                          COMPLIANCE AUDIT (PERMIT)   \n",
       "2                          COMPLIANCE AUDIT (PERMIT)   \n",
       "3                          COMPLIANCE AUDIT (PERMIT)   \n",
       "4  ENVIRONMENTAL MONITORING STATUTORY (EU DIRECTI...   \n",
       "5  ENVIRONMENTAL MONITORING STATUTORY (EU DIRECTI...   \n",
       "6  ENVIRONMENTAL MONITORING STATUTORY (EU DIRECTI...   \n",
       "7  ENVIRONMENTAL MONITORING STATUTORY (EU DIRECTI...   \n",
       "8  ENVIRONMENTAL MONITORING STATUTORY (EU DIRECTI...   \n",
       "9  ENVIRONMENTAL MONITORING STATUTORY (EU DIRECTI...   \n",
       "\n",
       "   sample.samplingPoint.easting  sample.samplingPoint.northing  \n",
       "0                        467993                         232851  \n",
       "1                        467993                         232851  \n",
       "2                        467993                         232851  \n",
       "3                        467993                         232851  \n",
       "4                        462655                         234551  \n",
       "5                        462655                         234551  \n",
       "6                        462655                         234551  \n",
       "7                        462655                         234551  \n",
       "8                        462655                         234551  \n",
       "9                        462655                         234551  "
      ]
     },
     "execution_count": 181,
     "metadata": {},
     "output_type": "execute_result"
    }
   ],
   "source": [
    "df = pd.read_csv('water_quality.csv')\n",
    "df.head(10)"
   ]
  },
  {
   "cell_type": "code",
   "execution_count": 182,
   "id": "eb01ed8b-0af2-4246-9d67-449b408531a5",
   "metadata": {},
   "outputs": [
    {
     "name": "stdout",
     "output_type": "stream",
     "text": [
      "<class 'pandas.core.frame.DataFrame'>\n",
      "RangeIndex: 81026 entries, 0 to 81025\n",
      "Data columns (total 13 columns):\n",
      " #   Column                            Non-Null Count  Dtype  \n",
      "---  ------                            --------------  -----  \n",
      " 0   sample.samplingPoint.notation     81026 non-null  object \n",
      " 1   sample.samplingPoint.label        81026 non-null  object \n",
      " 2   sample.sampleDateTime             81026 non-null  object \n",
      " 3   determinand.label                 81026 non-null  object \n",
      " 4   determinand.definition            81026 non-null  object \n",
      " 5   determinand.notation              81026 non-null  int64  \n",
      " 6   result                            81026 non-null  float64\n",
      " 7   determinand.unit.label            81026 non-null  object \n",
      " 8   sample.sampledMaterialType.label  81026 non-null  object \n",
      " 9   sample.isComplianceSample         81026 non-null  bool   \n",
      " 10  sample.purpose.label              81026 non-null  object \n",
      " 11  sample.samplingPoint.easting      81026 non-null  int64  \n",
      " 12  sample.samplingPoint.northing     81026 non-null  int64  \n",
      "dtypes: bool(1), float64(1), int64(3), object(8)\n",
      "memory usage: 7.5+ MB\n"
     ]
    }
   ],
   "source": [
    "df.info()"
   ]
  },
  {
   "cell_type": "markdown",
   "id": "e8a17700-d60c-47bd-9829-5720b050f83e",
   "metadata": {},
   "source": [
    "It seems that each entry represents a parameter found at a location.\n",
    "\n",
    "Now what we would like to do is have the chemical parameters found at a location to be our features for predicting whether a sample will be taken for compliance monitoring."
   ]
  },
  {
   "cell_type": "markdown",
   "id": "a1c4446a-e77c-4e43-b646-ea7bb816cbda",
   "metadata": {},
   "source": [
    "I would like to see how many different paramters there are to consider."
   ]
  },
  {
   "cell_type": "code",
   "execution_count": 185,
   "id": "9477eb30-c467-4306-b31c-68b836fa668b",
   "metadata": {},
   "outputs": [],
   "source": [
    "chem_parameters = df[['determinand.label','determinand.definition','determinand.notation','determinand.unit.label']].drop_duplicates(ignore_index=True)"
   ]
  },
  {
   "cell_type": "code",
   "execution_count": 186,
   "id": "d1419476-7417-4b5b-a67f-047ee9144d54",
   "metadata": {},
   "outputs": [
    {
     "data": {
      "text/html": [
       "<div>\n",
       "<style scoped>\n",
       "    .dataframe tbody tr th:only-of-type {\n",
       "        vertical-align: middle;\n",
       "    }\n",
       "\n",
       "    .dataframe tbody tr th {\n",
       "        vertical-align: top;\n",
       "    }\n",
       "\n",
       "    .dataframe thead th {\n",
       "        text-align: right;\n",
       "    }\n",
       "</style>\n",
       "<table border=\"1\" class=\"dataframe\">\n",
       "  <thead>\n",
       "    <tr style=\"text-align: right;\">\n",
       "      <th></th>\n",
       "      <th>determinand.label</th>\n",
       "      <th>determinand.definition</th>\n",
       "      <th>determinand.notation</th>\n",
       "      <th>determinand.unit.label</th>\n",
       "    </tr>\n",
       "  </thead>\n",
       "  <tbody>\n",
       "    <tr>\n",
       "      <th>0</th>\n",
       "      <td>Oil &amp; Grs Vs</td>\n",
       "      <td>Visible oil or grease, significant trace: Pres...</td>\n",
       "      <td>664</td>\n",
       "      <td>pres/nf</td>\n",
       "    </tr>\n",
       "    <tr>\n",
       "      <th>1</th>\n",
       "      <td>BOD ATU</td>\n",
       "      <td>BOD : 5 Day ATU</td>\n",
       "      <td>85</td>\n",
       "      <td>mg/l</td>\n",
       "    </tr>\n",
       "    <tr>\n",
       "      <th>2</th>\n",
       "      <td>Ammonia(N)</td>\n",
       "      <td>Ammoniacal Nitrogen as N</td>\n",
       "      <td>111</td>\n",
       "      <td>mg/l</td>\n",
       "    </tr>\n",
       "    <tr>\n",
       "      <th>3</th>\n",
       "      <td>Sld Sus@105C</td>\n",
       "      <td>Solids, Suspended at 105 C</td>\n",
       "      <td>135</td>\n",
       "      <td>mg/l</td>\n",
       "    </tr>\n",
       "    <tr>\n",
       "      <th>4</th>\n",
       "      <td>NH3 un-ion</td>\n",
       "      <td>Ammonia un-ionised as N</td>\n",
       "      <td>119</td>\n",
       "      <td>mg/l</td>\n",
       "    </tr>\n",
       "  </tbody>\n",
       "</table>\n",
       "</div>"
      ],
      "text/plain": [
       "  determinand.label                             determinand.definition  \\\n",
       "0      Oil & Grs Vs  Visible oil or grease, significant trace: Pres...   \n",
       "1           BOD ATU                                    BOD : 5 Day ATU   \n",
       "2        Ammonia(N)                           Ammoniacal Nitrogen as N   \n",
       "3      Sld Sus@105C                         Solids, Suspended at 105 C   \n",
       "4        NH3 un-ion                            Ammonia un-ionised as N   \n",
       "\n",
       "   determinand.notation determinand.unit.label  \n",
       "0                   664                pres/nf  \n",
       "1                    85                   mg/l  \n",
       "2                   111                   mg/l  \n",
       "3                   135                   mg/l  \n",
       "4                   119                   mg/l  "
      ]
     },
     "execution_count": 186,
     "metadata": {},
     "output_type": "execute_result"
    }
   ],
   "source": [
    "chem_parameters.head()"
   ]
  },
  {
   "cell_type": "markdown",
   "id": "7748d9c4-34fb-4038-9c50-9d7b514ab888",
   "metadata": {},
   "source": [
    "Scrolling through these parameters I can already notice some possibly irrelevant or unhelpful variables\n",
    "\n",
    "- NO FLOW/SAMP\n",
    "- FLOW I/s\n",
    "- Site Inspection\n",
    "- Flow Type\n",
    "- HtrlTW (Time of sampling relative to previous high water)\n",
    "- NGR Easting\n",
    "- NGR Northing\n",
    "- Cypermeth ID\n",
    "- Flow Tot Dly\n",
    "- Flow Instant\n",
    "- Photo Taken\n",
    "- D Site Insp\n",
    "- NATGRIDREF\n",
    "- Site Number"
   ]
  },
  {
   "cell_type": "markdown",
   "id": "7171d572-cf15-4e65-9613-53b6181447e1",
   "metadata": {},
   "source": [
    "## Data Cleaning and Wrangling"
   ]
  },
  {
   "cell_type": "code",
   "execution_count": 189,
   "id": "05bea8c4-7d97-45f7-81c6-2c00ccdd4a36",
   "metadata": {},
   "outputs": [],
   "source": [
    "variables_to_be_removed = [\n",
    "    \"NO FLOW/SAMP\",\n",
    "    \"FLOW I/s\",\n",
    "    \"Site Inspection\",\n",
    "    \"Flow Type\",\n",
    "    \"HtrlTW\",\n",
    "    \"NGR Easting\",\n",
    "    \"NGR Northing\",\n",
    "    \"Cypermeth ID\",\n",
    "    \"Flow Instant\",\n",
    "    \"Photo Taken\",\n",
    "    \"D Site Insp\",\n",
    "    \"NATGRIDREF\",\n",
    "    \"Site Number\",\n",
    "    \"SzRnWtSmall\",\n",
    "    \"SzRnWtLarge\",\n",
    "    \"SzRnWtMean\",\n",
    "    \"Site Inspect\",\n",
    "]\n",
    "\n",
    "df_cleaned = df[~df['determinand.label'].isin(variables_to_be_removed)].reset_index(drop=True)\n",
    "relevant_chem_parameters = chem_parameters[~chem_parameters['determinand.label'].isin(variables_to_be_removed)].reset_index(drop=True)"
   ]
  },
  {
   "cell_type": "markdown",
   "id": "abaffe5a-2059-4bd8-9907-26ffc1ca2a4c",
   "metadata": {},
   "source": [
    "We now make a new dataset where we have the determinand labels as features and the results as the data\n",
    "\n",
    "We need to also combine entries refrencing the same sampling point and sampling date and time\n",
    "\n",
    "In addition we will remove variables not helpful for predicting compliancy"
   ]
  },
  {
   "cell_type": "code",
   "execution_count": 191,
   "id": "f39dc0aa-2edd-460b-b81c-be03963d3f31",
   "metadata": {},
   "outputs": [],
   "source": [
    "df_cleaned = df_cleaned.drop(columns=[\n",
    "    'determinand.definition',\n",
    "    'determinand.notation',\n",
    "    'determinand.unit.label',\n",
    "    'sample.sampledMaterialType.label',\n",
    "    'sample.samplingPoint.easting',\n",
    "    'sample.samplingPoint.northing',\n",
    "    'sample.purpose.label'])"
   ]
  },
  {
   "cell_type": "markdown",
   "id": "aa28a836-713b-460c-99ca-e2a54ff9674c",
   "metadata": {},
   "source": [
    "Now that we only have relavent information we need to reorganize the data for modeling"
   ]
  },
  {
   "cell_type": "code",
   "execution_count": 193,
   "id": "3a1b3a20-1dd1-4f38-a0a8-3e87857075fe",
   "metadata": {},
   "outputs": [],
   "source": [
    "# We will use a dictionary to reorganize the data.\n",
    "# Our Values will be a list of tuples containing determinand and result and \n",
    "# Our Keys will be a tuple containing sampling point identification information\n",
    "data_dict = defaultdict(list)\n",
    "# keys = df[['sample.samplingPoint.notation','sample.samplingPoint.label','sample.sampleDateTime','sample.isComplianceSample']].drop_duplicates(ignore_index=True)\n",
    "\n",
    "for index, entry in df_cleaned.iterrows():\n",
    "    data_dict[(entry['sample.samplingPoint.notation'],\n",
    "               entry['sample.samplingPoint.label'],\n",
    "               entry['sample.sampleDateTime'],\n",
    "               entry['sample.isComplianceSample'])].append((entry['determinand.label'],entry['result']))\n",
    "    "
   ]
  },
  {
   "cell_type": "code",
   "execution_count": 194,
   "id": "6d6929ef-a138-4c5c-855d-4a5511474f95",
   "metadata": {},
   "outputs": [],
   "source": [
    "df_cleaned = df_cleaned.drop(columns=['determinand.label','result'])"
   ]
  },
  {
   "cell_type": "code",
   "execution_count": 195,
   "id": "af2f16c2-49e7-41d5-8911-a815dd85927a",
   "metadata": {},
   "outputs": [],
   "source": [
    "df_cleaned = df_cleaned.drop_duplicates().reset_index(drop=True)"
   ]
  },
  {
   "cell_type": "code",
   "execution_count": 196,
   "id": "40ffc958-fec8-41e2-b3a4-36dafded423d",
   "metadata": {},
   "outputs": [],
   "source": [
    "for parameter in relevant_chem_parameters['determinand.label']:\n",
    "    df_cleaned[parameter] = 0"
   ]
  },
  {
   "cell_type": "code",
   "execution_count": 197,
   "id": "05c981e8-6d3f-4aa5-b3d9-0eca24a92a02",
   "metadata": {},
   "outputs": [],
   "source": [
    "for i, entry in enumerate(data_dict):\n",
    "    for label, result in data_dict[entry]:\n",
    "        df_cleaned.at[i,label] = result"
   ]
  },
  {
   "cell_type": "code",
   "execution_count": 198,
   "id": "983f5e46-05d5-4707-a1ab-b53e873e6c56",
   "metadata": {},
   "outputs": [
    {
     "data": {
      "text/html": [
       "<div>\n",
       "<style scoped>\n",
       "    .dataframe tbody tr th:only-of-type {\n",
       "        vertical-align: middle;\n",
       "    }\n",
       "\n",
       "    .dataframe tbody tr th {\n",
       "        vertical-align: top;\n",
       "    }\n",
       "\n",
       "    .dataframe thead th {\n",
       "        text-align: right;\n",
       "    }\n",
       "</style>\n",
       "<table border=\"1\" class=\"dataframe\">\n",
       "  <thead>\n",
       "    <tr style=\"text-align: right;\">\n",
       "      <th></th>\n",
       "      <th>sample.samplingPoint.notation</th>\n",
       "      <th>sample.samplingPoint.label</th>\n",
       "      <th>sample.sampleDateTime</th>\n",
       "      <th>sample.isComplianceSample</th>\n",
       "      <th>Oil &amp; Grs Vs</th>\n",
       "      <th>BOD ATU</th>\n",
       "      <th>Ammonia(N)</th>\n",
       "      <th>Sld Sus@105C</th>\n",
       "      <th>NH3 un-ion</th>\n",
       "      <th>Orthophospht</th>\n",
       "      <th>...</th>\n",
       "      <th>DDT (PP)</th>\n",
       "      <th>PCB Con 156</th>\n",
       "      <th>Chloroprophm</th>\n",
       "      <th>t-Hept Epox</th>\n",
       "      <th>1,3,5-TCB</th>\n",
       "      <th>2,3,5,6-Tetr</th>\n",
       "      <th>Tecnazene</th>\n",
       "      <th>PAHs</th>\n",
       "      <th>Methanal</th>\n",
       "      <th>Beryllium-Be</th>\n",
       "    </tr>\n",
       "  </thead>\n",
       "  <tbody>\n",
       "    <tr>\n",
       "      <th>0</th>\n",
       "      <td>AN-011624</td>\n",
       "      <td>APOLLO OFFICE UNITS RADCLIVE RD GAWCOTT</td>\n",
       "      <td>2025-01-13T12:04:00</td>\n",
       "      <td>True</td>\n",
       "      <td>0</td>\n",
       "      <td>4</td>\n",
       "      <td>0</td>\n",
       "      <td>3</td>\n",
       "      <td>0</td>\n",
       "      <td>0</td>\n",
       "      <td>...</td>\n",
       "      <td>0</td>\n",
       "      <td>0</td>\n",
       "      <td>0</td>\n",
       "      <td>0</td>\n",
       "      <td>0</td>\n",
       "      <td>0</td>\n",
       "      <td>0</td>\n",
       "      <td>0</td>\n",
       "      <td>0</td>\n",
       "      <td>0</td>\n",
       "    </tr>\n",
       "    <tr>\n",
       "      <th>1</th>\n",
       "      <td>AN-01M05</td>\n",
       "      <td>R.OUSE FULWELL CROSSING</td>\n",
       "      <td>2025-01-14T13:57:00</td>\n",
       "      <td>False</td>\n",
       "      <td>0</td>\n",
       "      <td>0</td>\n",
       "      <td>0</td>\n",
       "      <td>0</td>\n",
       "      <td>0</td>\n",
       "      <td>0</td>\n",
       "      <td>...</td>\n",
       "      <td>0</td>\n",
       "      <td>0</td>\n",
       "      <td>0</td>\n",
       "      <td>0</td>\n",
       "      <td>0</td>\n",
       "      <td>0</td>\n",
       "      <td>0</td>\n",
       "      <td>0</td>\n",
       "      <td>0</td>\n",
       "      <td>0</td>\n",
       "    </tr>\n",
       "    <tr>\n",
       "      <th>2</th>\n",
       "      <td>AN-01M07</td>\n",
       "      <td>R.OUSE BOURTON MILL</td>\n",
       "      <td>2025-01-14T12:31:00</td>\n",
       "      <td>False</td>\n",
       "      <td>0</td>\n",
       "      <td>0</td>\n",
       "      <td>0</td>\n",
       "      <td>0</td>\n",
       "      <td>0</td>\n",
       "      <td>0</td>\n",
       "      <td>...</td>\n",
       "      <td>0</td>\n",
       "      <td>0</td>\n",
       "      <td>0</td>\n",
       "      <td>0</td>\n",
       "      <td>0</td>\n",
       "      <td>0</td>\n",
       "      <td>0</td>\n",
       "      <td>0</td>\n",
       "      <td>0</td>\n",
       "      <td>0</td>\n",
       "    </tr>\n",
       "    <tr>\n",
       "      <th>3</th>\n",
       "      <td>AN-01M14</td>\n",
       "      <td>R.OUSE WATER STRATFORD RD.BR.</td>\n",
       "      <td>2025-01-07T12:51:00</td>\n",
       "      <td>False</td>\n",
       "      <td>0</td>\n",
       "      <td>0</td>\n",
       "      <td>0</td>\n",
       "      <td>39</td>\n",
       "      <td>0</td>\n",
       "      <td>0</td>\n",
       "      <td>...</td>\n",
       "      <td>0</td>\n",
       "      <td>0</td>\n",
       "      <td>0</td>\n",
       "      <td>0</td>\n",
       "      <td>0</td>\n",
       "      <td>0</td>\n",
       "      <td>0</td>\n",
       "      <td>0</td>\n",
       "      <td>0</td>\n",
       "      <td>0</td>\n",
       "    </tr>\n",
       "    <tr>\n",
       "      <th>4</th>\n",
       "      <td>AN-02M13</td>\n",
       "      <td>PADBURY BK.TRIB.OUSE A421 RD.BR.THORNB'</td>\n",
       "      <td>2025-01-27T14:40:00</td>\n",
       "      <td>False</td>\n",
       "      <td>0</td>\n",
       "      <td>3</td>\n",
       "      <td>0</td>\n",
       "      <td>0</td>\n",
       "      <td>0</td>\n",
       "      <td>0</td>\n",
       "      <td>...</td>\n",
       "      <td>0</td>\n",
       "      <td>0</td>\n",
       "      <td>0</td>\n",
       "      <td>0</td>\n",
       "      <td>0</td>\n",
       "      <td>0</td>\n",
       "      <td>0</td>\n",
       "      <td>0</td>\n",
       "      <td>0</td>\n",
       "      <td>0</td>\n",
       "    </tr>\n",
       "    <tr>\n",
       "      <th>...</th>\n",
       "      <td>...</td>\n",
       "      <td>...</td>\n",
       "      <td>...</td>\n",
       "      <td>...</td>\n",
       "      <td>...</td>\n",
       "      <td>...</td>\n",
       "      <td>...</td>\n",
       "      <td>...</td>\n",
       "      <td>...</td>\n",
       "      <td>...</td>\n",
       "      <td>...</td>\n",
       "      <td>...</td>\n",
       "      <td>...</td>\n",
       "      <td>...</td>\n",
       "      <td>...</td>\n",
       "      <td>...</td>\n",
       "      <td>...</td>\n",
       "      <td>...</td>\n",
       "      <td>...</td>\n",
       "      <td>...</td>\n",
       "      <td>...</td>\n",
       "    </tr>\n",
       "    <tr>\n",
       "      <th>7062</th>\n",
       "      <td>TH-SSN0187</td>\n",
       "      <td>ABOVE DORN AT B4030 - BARTON BUSHES STRE</td>\n",
       "      <td>2025-01-06T12:52:00</td>\n",
       "      <td>False</td>\n",
       "      <td>0</td>\n",
       "      <td>0</td>\n",
       "      <td>0</td>\n",
       "      <td>20</td>\n",
       "      <td>0</td>\n",
       "      <td>0</td>\n",
       "      <td>...</td>\n",
       "      <td>0</td>\n",
       "      <td>0</td>\n",
       "      <td>0</td>\n",
       "      <td>0</td>\n",
       "      <td>0</td>\n",
       "      <td>0</td>\n",
       "      <td>0</td>\n",
       "      <td>0</td>\n",
       "      <td>0</td>\n",
       "      <td>0</td>\n",
       "    </tr>\n",
       "    <tr>\n",
       "      <th>7063</th>\n",
       "      <td>TH-SSN0251</td>\n",
       "      <td>SSN0251 DEAN WOOD</td>\n",
       "      <td>2025-01-06T11:50:00</td>\n",
       "      <td>False</td>\n",
       "      <td>0</td>\n",
       "      <td>0</td>\n",
       "      <td>0</td>\n",
       "      <td>25</td>\n",
       "      <td>0</td>\n",
       "      <td>0</td>\n",
       "      <td>...</td>\n",
       "      <td>0</td>\n",
       "      <td>0</td>\n",
       "      <td>0</td>\n",
       "      <td>0</td>\n",
       "      <td>0</td>\n",
       "      <td>0</td>\n",
       "      <td>0</td>\n",
       "      <td>0</td>\n",
       "      <td>0</td>\n",
       "      <td>0</td>\n",
       "    </tr>\n",
       "    <tr>\n",
       "      <th>7064</th>\n",
       "      <td>TH-SSN0911</td>\n",
       "      <td>SSN0911 EGG BARN WOOD</td>\n",
       "      <td>2025-01-03T10:43:00</td>\n",
       "      <td>False</td>\n",
       "      <td>0</td>\n",
       "      <td>0</td>\n",
       "      <td>0</td>\n",
       "      <td>8</td>\n",
       "      <td>0</td>\n",
       "      <td>0</td>\n",
       "      <td>...</td>\n",
       "      <td>0</td>\n",
       "      <td>0</td>\n",
       "      <td>0</td>\n",
       "      <td>0</td>\n",
       "      <td>0</td>\n",
       "      <td>0</td>\n",
       "      <td>0</td>\n",
       "      <td>0</td>\n",
       "      <td>0</td>\n",
       "      <td>0</td>\n",
       "    </tr>\n",
       "    <tr>\n",
       "      <th>7065</th>\n",
       "      <td>TH-SSN0959</td>\n",
       "      <td>SSN0959 U/S ADWELL ROAD</td>\n",
       "      <td>2025-01-03T12:57:00</td>\n",
       "      <td>False</td>\n",
       "      <td>0</td>\n",
       "      <td>0</td>\n",
       "      <td>0</td>\n",
       "      <td>12</td>\n",
       "      <td>0</td>\n",
       "      <td>0</td>\n",
       "      <td>...</td>\n",
       "      <td>0</td>\n",
       "      <td>0</td>\n",
       "      <td>0</td>\n",
       "      <td>0</td>\n",
       "      <td>0</td>\n",
       "      <td>0</td>\n",
       "      <td>0</td>\n",
       "      <td>0</td>\n",
       "      <td>0</td>\n",
       "      <td>0</td>\n",
       "    </tr>\n",
       "    <tr>\n",
       "      <th>7066</th>\n",
       "      <td>TH-SSN1390</td>\n",
       "      <td>ABOVE NEWTOWN CHURCH - NEWTOWN BROOK</td>\n",
       "      <td>2025-01-13T11:05:00</td>\n",
       "      <td>False</td>\n",
       "      <td>0</td>\n",
       "      <td>0</td>\n",
       "      <td>0</td>\n",
       "      <td>6</td>\n",
       "      <td>0</td>\n",
       "      <td>0</td>\n",
       "      <td>...</td>\n",
       "      <td>0</td>\n",
       "      <td>0</td>\n",
       "      <td>0</td>\n",
       "      <td>0</td>\n",
       "      <td>0</td>\n",
       "      <td>0</td>\n",
       "      <td>0</td>\n",
       "      <td>0</td>\n",
       "      <td>0</td>\n",
       "      <td>0</td>\n",
       "    </tr>\n",
       "  </tbody>\n",
       "</table>\n",
       "<p>7067 rows × 345 columns</p>\n",
       "</div>"
      ],
      "text/plain": [
       "     sample.samplingPoint.notation                sample.samplingPoint.label  \\\n",
       "0                        AN-011624   APOLLO OFFICE UNITS RADCLIVE RD GAWCOTT   \n",
       "1                         AN-01M05                   R.OUSE FULWELL CROSSING   \n",
       "2                         AN-01M07                       R.OUSE BOURTON MILL   \n",
       "3                         AN-01M14             R.OUSE WATER STRATFORD RD.BR.   \n",
       "4                         AN-02M13   PADBURY BK.TRIB.OUSE A421 RD.BR.THORNB'   \n",
       "...                            ...                                       ...   \n",
       "7062                    TH-SSN0187  ABOVE DORN AT B4030 - BARTON BUSHES STRE   \n",
       "7063                    TH-SSN0251                         SSN0251 DEAN WOOD   \n",
       "7064                    TH-SSN0911                     SSN0911 EGG BARN WOOD   \n",
       "7065                    TH-SSN0959                   SSN0959 U/S ADWELL ROAD   \n",
       "7066                    TH-SSN1390      ABOVE NEWTOWN CHURCH - NEWTOWN BROOK   \n",
       "\n",
       "     sample.sampleDateTime  sample.isComplianceSample  Oil & Grs Vs  BOD ATU  \\\n",
       "0      2025-01-13T12:04:00                       True             0        4   \n",
       "1      2025-01-14T13:57:00                      False             0        0   \n",
       "2      2025-01-14T12:31:00                      False             0        0   \n",
       "3      2025-01-07T12:51:00                      False             0        0   \n",
       "4      2025-01-27T14:40:00                      False             0        3   \n",
       "...                    ...                        ...           ...      ...   \n",
       "7062   2025-01-06T12:52:00                      False             0        0   \n",
       "7063   2025-01-06T11:50:00                      False             0        0   \n",
       "7064   2025-01-03T10:43:00                      False             0        0   \n",
       "7065   2025-01-03T12:57:00                      False             0        0   \n",
       "7066   2025-01-13T11:05:00                      False             0        0   \n",
       "\n",
       "      Ammonia(N)  Sld Sus@105C  NH3 un-ion  Orthophospht  ...  DDT (PP)  \\\n",
       "0              0             3           0             0  ...         0   \n",
       "1              0             0           0             0  ...         0   \n",
       "2              0             0           0             0  ...         0   \n",
       "3              0            39           0             0  ...         0   \n",
       "4              0             0           0             0  ...         0   \n",
       "...          ...           ...         ...           ...  ...       ...   \n",
       "7062           0            20           0             0  ...         0   \n",
       "7063           0            25           0             0  ...         0   \n",
       "7064           0             8           0             0  ...         0   \n",
       "7065           0            12           0             0  ...         0   \n",
       "7066           0             6           0             0  ...         0   \n",
       "\n",
       "      PCB Con 156  Chloroprophm  t-Hept Epox  1,3,5-TCB  2,3,5,6-Tetr  \\\n",
       "0               0             0            0          0             0   \n",
       "1               0             0            0          0             0   \n",
       "2               0             0            0          0             0   \n",
       "3               0             0            0          0             0   \n",
       "4               0             0            0          0             0   \n",
       "...           ...           ...          ...        ...           ...   \n",
       "7062            0             0            0          0             0   \n",
       "7063            0             0            0          0             0   \n",
       "7064            0             0            0          0             0   \n",
       "7065            0             0            0          0             0   \n",
       "7066            0             0            0          0             0   \n",
       "\n",
       "      Tecnazene  PAHs  Methanal  Beryllium-Be  \n",
       "0             0     0         0             0  \n",
       "1             0     0         0             0  \n",
       "2             0     0         0             0  \n",
       "3             0     0         0             0  \n",
       "4             0     0         0             0  \n",
       "...         ...   ...       ...           ...  \n",
       "7062          0     0         0             0  \n",
       "7063          0     0         0             0  \n",
       "7064          0     0         0             0  \n",
       "7065          0     0         0             0  \n",
       "7066          0     0         0             0  \n",
       "\n",
       "[7067 rows x 345 columns]"
      ]
     },
     "execution_count": 198,
     "metadata": {},
     "output_type": "execute_result"
    }
   ],
   "source": [
    "df_cleaned"
   ]
  },
  {
   "cell_type": "markdown",
   "id": "ccdfc5bd-3417-42aa-a991-802c55e55388",
   "metadata": {},
   "source": [
    "This concludes our cleaning and wrangling of the data"
   ]
  },
  {
   "cell_type": "markdown",
   "id": "12e8198a-26c7-412e-ba3b-99a19dcab648",
   "metadata": {},
   "source": [
    "## Handeling Class Imbalence"
   ]
  },
  {
   "cell_type": "markdown",
   "id": "721bb608-2685-4fad-8a85-754a0a05f281",
   "metadata": {},
   "source": [
    "### Checking for Class Imbalence"
   ]
  },
  {
   "cell_type": "code",
   "execution_count": 202,
   "id": "b1096427-f355-45d1-821c-0289d780fe4b",
   "metadata": {},
   "outputs": [
    {
     "data": {
      "text/plain": [
       "<AxesSubplot:>"
      ]
     },
     "execution_count": 202,
     "metadata": {},
     "output_type": "execute_result"
    },
    {
     "data": {
      "image/png": "[encoded data removed]",
      "text/plain": [
       "<Figure size 432x288 with 1 Axes>"
      ]
     },
     "metadata": {},
     "output_type": "display_data"
    }
   ],
   "source": [
    "df_cleaned.groupby(['sample.isComplianceSample']).count().plot(kind='pie',\n",
    "                                                               y='sample.samplingPoint.notation',\n",
    "                                                               autopct='%1.1f%%',\n",
    "                                                               radius=3,\n",
    "                                                               ylabel=\"\")\n"
   ]
  },
  {
   "cell_type": "markdown",
   "id": "c110c037-1b57-487f-bf09-58f7ac2d4b95",
   "metadata": {},
   "source": [
    "### Strategy "
   ]
  },
  {
   "cell_type": "markdown",
   "id": "df031de2-d509-43ad-8ac4-13fc44df7770",
   "metadata": {},
   "source": [
    "In order to make the data more balanced I will increase the weight of the True class"
   ]
  },
  {
   "cell_type": "markdown",
   "id": "786a6893-8202-4bf3-bbff-9a58d3690060",
   "metadata": {},
   "source": [
    "## Preprocessing"
   ]
  },
  {
   "cell_type": "markdown",
   "id": "730bfb94-52ca-42a5-a5cb-8ce3e8c1faa9",
   "metadata": {},
   "source": [
    "Straight forward 80/20 split will be implemented. Also will use kfold for validation."
   ]
  },
  {
   "cell_type": "code",
   "execution_count": 207,
   "id": "8a435905-91c6-4295-b93a-aaa296f0568f",
   "metadata": {},
   "outputs": [],
   "source": [
    "X = df_cleaned.iloc[:,4:].values\n",
    "Y = df_cleaned['sample.isComplianceSample'].values"
   ]
  },
  {
   "cell_type": "code",
   "execution_count": 208,
   "id": "b3c48c8a-3a13-45eb-bcf4-3dc4b9a14fd6",
   "metadata": {},
   "outputs": [],
   "source": [
    "#kfold = KFold(n_splits=3, random_state=7, shuffle=True)\n",
    "X_train, X_test, Y_train, Y_test = train_test_split(X, Y, test_size=.2,random_state=7)"
   ]
  },
  {
   "cell_type": "code",
   "execution_count": 209,
   "id": "dd23f31d-3794-4908-98f5-04f581ece2b7",
   "metadata": {},
   "outputs": [],
   "source": [
    "scaler = StandardScaler()\n",
    "X_train_scaled = scaler.fit_transform(X_train)\n",
    "X_test_scaled = scaler.transform(X_test)"
   ]
  },
  {
   "cell_type": "markdown",
   "id": "82574ae6-5172-44ac-b334-8d45724a0266",
   "metadata": {},
   "source": [
    "## Model"
   ]
  },
  {
   "cell_type": "markdown",
   "id": "f696aa24-bc6a-46b1-b38c-5c59728582ed",
   "metadata": {},
   "source": [
    "We will use logistic regression for this classification problem"
   ]
  },
  {
   "cell_type": "markdown",
   "id": "4ff4b6c1-83ac-4689-b377-2c254a9a5990",
   "metadata": {},
   "source": [
    "I will be working with the following parameters:\n",
    "\n",
    "**penalty** - 'l2': I didn't find any difference between using l1 and l2 regularization, but i would prefer the parameters not be strictly reduced to 0 because of how many parameters i have and would like to see how each parameter impacts the model. I would like to have regularization in general because my model might overfit otherwise.\n",
    "\n",
    "**max_iter** - 10000: due to the large amounts of high dimensional data this amount of iterations makes it so that the model will converge.\n",
    "\n",
    "**solver** - 'sag': since im deciding on going with l2 regularization and my dataset is large sag (Stochastic Average Gradient) is the optimal choice since on l2 regularization it's faster than saga which is another solver that works well with large datasets.\n",
    "\n",
    "**class_weight** - 'balanced':This is our way of handleling our unbalanced data. I don't think other ways to handle unbalanced data are necessary or optimal. I was considering implementing SMOTE.\n",
    "\n",
    "**C** - 10: I found that a weaker regularization increases accuracy."
   ]
  },
  {
   "cell_type": "code",
   "execution_count": 213,
   "id": "656a12de-5761-4558-a78b-e769bb911e9a",
   "metadata": {},
   "outputs": [],
   "source": [
    "model = LogisticRegression(penalty='l2',max_iter=10000,solver='sag',class_weight='balanced',C=10)"
   ]
  },
  {
   "cell_type": "code",
   "execution_count": 214,
   "id": "20f9ac57-c8f4-44af-83ee-58bc3f07127e",
   "metadata": {},
   "outputs": [
    {
     "data": {
      "text/plain": [
       "array([0.95013263, 0.94798301, 0.94320594])"
      ]
     },
     "execution_count": 214,
     "metadata": {},
     "output_type": "execute_result"
    }
   ],
   "source": [
    "kfold = KFold(n_splits=3, random_state=7, shuffle=True)\n",
    "kfold_scores = cross_val_score(model, X_train_scaled, Y_train, cv=kfold)\n",
    "kfold_scores"
   ]
  },
  {
   "cell_type": "markdown",
   "id": "db656491-d5cd-424e-936d-a514c269e41e",
   "metadata": {},
   "source": [
    "not a lot of variance"
   ]
  },
  {
   "cell_type": "code",
   "execution_count": 216,
   "id": "b892adf0-de9b-4ed3-a2fb-7ddcfc84b3a7",
   "metadata": {},
   "outputs": [
    {
     "data": {
      "text/plain": [
       "LogisticRegression(C=10, class_weight='balanced', max_iter=10000, solver='sag')"
      ]
     },
     "execution_count": 216,
     "metadata": {},
     "output_type": "execute_result"
    }
   ],
   "source": [
    "model.fit(X_train_scaled,Y_train)"
   ]
  },
  {
   "cell_type": "code",
   "execution_count": 217,
   "id": "1c80c0d0-bd21-434d-86dc-717981f7f02f",
   "metadata": {},
   "outputs": [],
   "source": [
    "prediction = model.predict(X_test_scaled)"
   ]
  },
  {
   "cell_type": "code",
   "execution_count": 218,
   "id": "2aee7e1f-86cb-4b86-bbda-f3f75f759a45",
   "metadata": {},
   "outputs": [],
   "source": [
    "cm = confusion_matrix(y_true=Y_test, y_pred=prediction)"
   ]
  },
  {
   "cell_type": "code",
   "execution_count": 219,
   "id": "b3ffda89-7a95-4812-8fd7-ee6875b532ac",
   "metadata": {},
   "outputs": [
    {
     "data": {
      "image/png": "[encoded data removed]",
      "text/plain": [
       "<Figure size 432x288 with 2 Axes>"
      ]
     },
     "metadata": {
      "needs_background": "light"
     },
     "output_type": "display_data"
    }
   ],
   "source": [
    "sns.heatmap(cm, annot=True, fmt='d', cmap='Reds', \n",
    "            xticklabels=['Negative', 'Positive'], \n",
    "            yticklabels=['Negative', 'Positive'])\n",
    "plt.xlabel('Predicted')\n",
    "plt.ylabel('Actual')\n",
    "plt.title('Confusion Matrix')\n",
    "plt.show()"
   ]
  },
  {
   "cell_type": "code",
   "execution_count": 220,
   "id": "42ca22d0-eaaf-483c-aa51-91f927c87e76",
   "metadata": {},
   "outputs": [
    {
     "name": "stdout",
     "output_type": "stream",
     "text": [
      "              precision    recall  f1-score   support\n",
      "\n",
      "       False       1.00      0.96      0.98      1140\n",
      "        True       0.85      0.98      0.91       274\n",
      "\n",
      "    accuracy                           0.96      1414\n",
      "   macro avg       0.92      0.97      0.94      1414\n",
      "weighted avg       0.97      0.96      0.96      1414\n",
      "\n"
     ]
    }
   ],
   "source": [
    "print(classification_report(Y_test, prediction))"
   ]
  },
  {
   "cell_type": "markdown",
   "id": "af9386a8-89ea-4c72-aa1e-e59fbe3baab5",
   "metadata": {},
   "source": [
    "I am pleased with this accuracy report. Logistic Regression was a good choice\n",
    "\n",
    "Accuracy and f1-scores are high, but the most import metric is recall for the true class. it's important to make sure that all entries that are non-compliant get labeled as such even if it sacrifices precision. It's better to be safe"
   ]
  },
  {
   "cell_type": "code",
   "execution_count": 222,
   "id": "55e9143e-e328-4b0a-99c2-a6fdddb6921b",
   "metadata": {},
   "outputs": [],
   "source": [
    "coefficients = model.coef_"
   ]
  },
  {
   "cell_type": "code",
   "execution_count": 223,
   "id": "fd147edc-0863-4e71-9ebd-509b3cf5d928",
   "metadata": {},
   "outputs": [
    {
     "data": {
      "text/plain": [
       "(1, 341)"
      ]
     },
     "execution_count": 223,
     "metadata": {},
     "output_type": "execute_result"
    }
   ],
   "source": [
    "coefficients.shape"
   ]
  },
  {
   "cell_type": "code",
   "execution_count": 224,
   "id": "1977a9d6-ab82-47e9-bbf3-342580cc817d",
   "metadata": {},
   "outputs": [
    {
     "data": {
      "text/plain": [
       "Index(['Oil & Grs Vs', 'BOD ATU', 'Ammonia(N)', 'Sld Sus@105C', 'NH3 un-ion',\n",
       "       'Orthophospht', 'Alky pH 4.5', 'Cond @ 25C', 'pH', 'N Oxidised',\n",
       "       ...\n",
       "       'DDT (PP)', 'PCB Con 156', 'Chloroprophm', 't-Hept Epox', '1,3,5-TCB',\n",
       "       '2,3,5,6-Tetr', 'Tecnazene', 'PAHs', 'Methanal', 'Beryllium-Be'],\n",
       "      dtype='object', length=341)"
      ]
     },
     "execution_count": 224,
     "metadata": {},
     "output_type": "execute_result"
    }
   ],
   "source": [
    "df_cleaned.iloc[:,4:].columns"
   ]
  },
  {
   "cell_type": "markdown",
   "id": "f5c1bb72-f981-4bf5-a647-e8b330690af6",
   "metadata": {},
   "source": [
    "We will now tie the feature names to the coefficients so we can find the most influential coefficients and the coefficients that played little to no role in compliancy."
   ]
  },
  {
   "cell_type": "code",
   "execution_count": 226,
   "id": "e7d50b32-73e6-4ca0-ac3e-56c2de81690b",
   "metadata": {},
   "outputs": [
    {
     "data": {
      "text/html": [
       "<div>\n",
       "<style scoped>\n",
       "    .dataframe tbody tr th:only-of-type {\n",
       "        vertical-align: middle;\n",
       "    }\n",
       "\n",
       "    .dataframe tbody tr th {\n",
       "        vertical-align: top;\n",
       "    }\n",
       "\n",
       "    .dataframe thead th {\n",
       "        text-align: right;\n",
       "    }\n",
       "</style>\n",
       "<table border=\"1\" class=\"dataframe\">\n",
       "  <thead>\n",
       "    <tr style=\"text-align: right;\">\n",
       "      <th></th>\n",
       "      <th>feature</th>\n",
       "      <th>coefficient</th>\n",
       "    </tr>\n",
       "  </thead>\n",
       "  <tbody>\n",
       "    <tr>\n",
       "      <th>0</th>\n",
       "      <td>Oil &amp; Grs Vs</td>\n",
       "      <td>0.051403</td>\n",
       "    </tr>\n",
       "    <tr>\n",
       "      <th>1</th>\n",
       "      <td>BOD ATU</td>\n",
       "      <td>0.085410</td>\n",
       "    </tr>\n",
       "    <tr>\n",
       "      <th>2</th>\n",
       "      <td>Ammonia(N)</td>\n",
       "      <td>-0.142149</td>\n",
       "    </tr>\n",
       "    <tr>\n",
       "      <th>3</th>\n",
       "      <td>Sld Sus@105C</td>\n",
       "      <td>-0.246902</td>\n",
       "    </tr>\n",
       "    <tr>\n",
       "      <th>4</th>\n",
       "      <td>NH3 un-ion</td>\n",
       "      <td>0.000000</td>\n",
       "    </tr>\n",
       "  </tbody>\n",
       "</table>\n",
       "</div>"
      ],
      "text/plain": [
       "        feature  coefficient\n",
       "0  Oil & Grs Vs     0.051403\n",
       "1       BOD ATU     0.085410\n",
       "2    Ammonia(N)    -0.142149\n",
       "3  Sld Sus@105C    -0.246902\n",
       "4    NH3 un-ion     0.000000"
      ]
     },
     "execution_count": 226,
     "metadata": {},
     "output_type": "execute_result"
    }
   ],
   "source": [
    "coef_df = pd.DataFrame({\"feature\": df_cleaned.iloc[:,4:].columns, \"coefficient\": coefficients[0]})\n",
    "coef_df.head(5)"
   ]
  },
  {
   "cell_type": "code",
   "execution_count": 227,
   "id": "f038ada8-4a8c-4057-84a6-f88580174cfc",
   "metadata": {},
   "outputs": [
    {
     "data": {
      "text/html": [
       "<div>\n",
       "<style scoped>\n",
       "    .dataframe tbody tr th:only-of-type {\n",
       "        vertical-align: middle;\n",
       "    }\n",
       "\n",
       "    .dataframe tbody tr th {\n",
       "        vertical-align: top;\n",
       "    }\n",
       "\n",
       "    .dataframe thead th {\n",
       "        text-align: right;\n",
       "    }\n",
       "</style>\n",
       "<table border=\"1\" class=\"dataframe\">\n",
       "  <thead>\n",
       "    <tr style=\"text-align: right;\">\n",
       "      <th></th>\n",
       "      <th>feature</th>\n",
       "      <th>coefficient</th>\n",
       "    </tr>\n",
       "  </thead>\n",
       "  <tbody>\n",
       "    <tr>\n",
       "      <th>24</th>\n",
       "      <td>Nitrogen - N</td>\n",
       "      <td>-6.992969</td>\n",
       "    </tr>\n",
       "    <tr>\n",
       "      <th>37</th>\n",
       "      <td>C - Org Filt</td>\n",
       "      <td>-1.939587</td>\n",
       "    </tr>\n",
       "    <tr>\n",
       "      <th>30</th>\n",
       "      <td>Zinc - as Zn</td>\n",
       "      <td>-1.879371</td>\n",
       "    </tr>\n",
       "    <tr>\n",
       "      <th>12</th>\n",
       "      <td>Oxygen Diss</td>\n",
       "      <td>-1.754991</td>\n",
       "    </tr>\n",
       "    <tr>\n",
       "      <th>35</th>\n",
       "      <td>Mg Filtered</td>\n",
       "      <td>-1.593023</td>\n",
       "    </tr>\n",
       "  </tbody>\n",
       "</table>\n",
       "</div>"
      ],
      "text/plain": [
       "         feature  coefficient\n",
       "24  Nitrogen - N    -6.992969\n",
       "37  C - Org Filt    -1.939587\n",
       "30  Zinc - as Zn    -1.879371\n",
       "12   Oxygen Diss    -1.754991\n",
       "35   Mg Filtered    -1.593023"
      ]
     },
     "execution_count": 227,
     "metadata": {},
     "output_type": "execute_result"
    }
   ],
   "source": [
    "ordered_coef_df=coef_df.sort_values(by='coefficient',key= lambda coef:abs(coef),ascending=False)\n",
    "ordered_coef_df.head(5)"
   ]
  },
  {
   "cell_type": "code",
   "execution_count": 228,
   "id": "82fccb67-f9a9-4f7e-abd9-fcf0136a548e",
   "metadata": {},
   "outputs": [
    {
     "data": {
      "text/html": [
       "<div>\n",
       "<style scoped>\n",
       "    .dataframe tbody tr th:only-of-type {\n",
       "        vertical-align: middle;\n",
       "    }\n",
       "\n",
       "    .dataframe tbody tr th {\n",
       "        vertical-align: top;\n",
       "    }\n",
       "\n",
       "    .dataframe thead th {\n",
       "        text-align: right;\n",
       "    }\n",
       "</style>\n",
       "<table border=\"1\" class=\"dataframe\">\n",
       "  <thead>\n",
       "    <tr style=\"text-align: right;\">\n",
       "      <th></th>\n",
       "      <th>feature</th>\n",
       "      <th>coefficient</th>\n",
       "    </tr>\n",
       "  </thead>\n",
       "  <tbody>\n",
       "    <tr>\n",
       "      <th>45</th>\n",
       "      <td>Iron - as Fe</td>\n",
       "      <td>1.463150</td>\n",
       "    </tr>\n",
       "    <tr>\n",
       "      <th>15</th>\n",
       "      <td>Phosphorus-P</td>\n",
       "      <td>0.942154</td>\n",
       "    </tr>\n",
       "    <tr>\n",
       "      <th>14</th>\n",
       "      <td>Nitrate-N</td>\n",
       "      <td>0.866312</td>\n",
       "    </tr>\n",
       "    <tr>\n",
       "      <th>32</th>\n",
       "      <td>Nickel - Ni</td>\n",
       "      <td>0.655010</td>\n",
       "    </tr>\n",
       "    <tr>\n",
       "      <th>33</th>\n",
       "      <td>Cadmium - Cd</td>\n",
       "      <td>0.353646</td>\n",
       "    </tr>\n",
       "  </tbody>\n",
       "</table>\n",
       "</div>"
      ],
      "text/plain": [
       "         feature  coefficient\n",
       "45  Iron - as Fe     1.463150\n",
       "15  Phosphorus-P     0.942154\n",
       "14     Nitrate-N     0.866312\n",
       "32   Nickel - Ni     0.655010\n",
       "33  Cadmium - Cd     0.353646"
      ]
     },
     "execution_count": 228,
     "metadata": {},
     "output_type": "execute_result"
    }
   ],
   "source": [
    "ordered_coef_df[ordered_coef_df['coefficient'] > 0].head(5)"
   ]
  },
  {
   "cell_type": "markdown",
   "id": "f740ef8a-6117-4fe6-8c12-a63a29c96a1b",
   "metadata": {},
   "source": [
    "Seems among the wide variaty of parameters Nitrogen stands out as the most influential variable. Iron being the most influential in determining the positive class and Nitrogen for the negative class. Other variables that influence in a positive direction are phosphorus, Nickel and nitrate."
   ]
  },
  {
   "cell_type": "markdown",
   "id": "2dcd5dcb-f2c9-4728-b549-3a1926cec347",
   "metadata": {},
   "source": [
    "# Refrences\n",
    "\n",
    "“Essential Math for Data Science by Thomas Nield (O’Reilly). Copyright 2022 Thomas Nield, 978-1-098-10293-7.”\n",
    "\n",
    "“Practical Statistics for Data Scientists by Peter Bruce, Andrew Bruce, and Peter Gedeck (O’Reilly). Copyright 2020 Peter Bruce, Andrew Bruce, and Peter Gedeck, 978-1-492-07294-2.”\n",
    "\n",
    "Scikit-learn developers. sklearn.linear_model.LogisticRegression. Scikit-learn, https://scikit-learn.org/stable/modules/generated/sklearn.linear_model.LogisticRegression.html.\n",
    "\n",
    "Scikit-learn developers. “sklearn.model_selection.cross_val_score.” Scikit-learn, n.d., https://scikit-learn.org/stable/modules/generated/sklearn.model_selection.cross_val_score.html. "
   ]
  },
  {
   "cell_type": "code",
   "execution_count": null,
   "id": "053ad67d-cedc-4598-820a-db18d6bc6d8f",
   "metadata": {},
   "outputs": [],
   "source": []
  }
 ],
 "metadata": {
  "kernelspec": {
   "display_name": "Python [conda env:anaconda3]",
   "language": "python",
   "name": "conda-env-anaconda3-py"
  },
  "language_info": {
   "codemirror_mode": {
    "name": "ipython",
    "version": 3
   },
   "file_extension": ".py",
   "mimetype": "text/x-python",
   "name": "python",
   "nbconvert_exporter": "python",
   "pygments_lexer": "ipython3",
   "version": "3.8.8"
  }
 },
 "nbformat": 4,
 "nbformat_minor": 5
}
